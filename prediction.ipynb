{
 "cells": [
  {
   "cell_type": "markdown",
   "metadata": {},
   "source": [
    "## Predicting Inter Maimi's best scenario for qualifying"
   ]
  },
  {
   "cell_type": "markdown",
   "metadata": {},
   "source": [
    "As on 2 September 2023, Inter Miami have following stats:\n",
    "1. Matches played : 24\n",
    "2. Matched won : 6\n",
    "3. Matches draw : 4\n",
    "4. Matches lost : 14\n",
    "5. Points : 22\n",
    "\n",
    "Maximum avaialble games per team in a season - 34"
   ]
  },
  {
   "cell_type": "code",
   "execution_count": 24,
   "metadata": {},
   "outputs": [],
   "source": [
    "import pickle\n",
    "import pandas as pd\n",
    "from sklearn.preprocessing import StandardScaler"
   ]
  },
  {
   "cell_type": "code",
   "execution_count": 25,
   "metadata": {},
   "outputs": [],
   "source": [
    "# Initialising current stats of inter miami\n",
    "c_win = 6\n",
    "c_draw = 4\n",
    "c_lost = 14\n",
    "max = 34\n",
    "\n",
    "# Preparing dataset with all max possible outcomes\n",
    "lst = list()\n",
    "for win in range (0, 11):\n",
    "    for draw in range (0, 11):\n",
    "        for loss in range (0, 11):\n",
    "           if (win+draw+loss) == 10:\n",
    "               lst.append([(win+c_win), (draw+c_draw), (loss+c_lost), ((int(win+c_win)*3) + (int(draw+c_draw)))])\n",
    "               \n",
    "# Final dataset to test\n",
    "scenarios = pd.DataFrame(lst[1:], columns=['W', 'D', 'L', 'Pts'])"
   ]
  },
  {
   "cell_type": "code",
   "execution_count": 26,
   "metadata": {},
   "outputs": [],
   "source": [
    "# Loading the model\n",
    "mlsModel = pickle.load(open('mls_model.pkl', 'rb'))"
   ]
  },
  {
   "cell_type": "code",
   "execution_count": 27,
   "metadata": {},
   "outputs": [],
   "source": [
    "# Predicting the possible scenarios that can lead to inter miami's qualfication\n",
    "# Scaling the data before predicting\n",
    "\n",
    "standScalar = StandardScaler()\n",
    "predScenarios = standScalar.fit_transform(scenarios)\n",
    "predictions = mlsModel.predict(predScenarios)"
   ]
  },
  {
   "cell_type": "code",
   "execution_count": 34,
   "metadata": {},
   "outputs": [],
   "source": [
    "# Updating the scenarios dataset with all the predictions\n",
    "# and creating a new dataset with only TRUE qualification possiblities \n",
    "scenarios['Pred'] = predictions\n",
    "qualification = scenarios[scenarios['Pred'] == 1]"
   ]
  },
  {
   "cell_type": "code",
   "execution_count": 42,
   "metadata": {},
   "outputs": [],
   "source": [
    "# Possiblites classified\n",
    "min_quali = qualification.head(1)\n",
    "expected_quali = qualification[qualification['Pts'] >= 42].head(1)"
   ]
  },
  {
   "cell_type": "code",
   "execution_count": 45,
   "metadata": {},
   "outputs": [
    {
     "data": {
      "text/html": [
       "<div>\n",
       "<style scoped>\n",
       "    .dataframe tbody tr th:only-of-type {\n",
       "        vertical-align: middle;\n",
       "    }\n",
       "\n",
       "    .dataframe tbody tr th {\n",
       "        vertical-align: top;\n",
       "    }\n",
       "\n",
       "    .dataframe thead th {\n",
       "        text-align: right;\n",
       "    }\n",
       "</style>\n",
       "<table border=\"1\" class=\"dataframe\">\n",
       "  <thead>\n",
       "    <tr style=\"text-align: right;\">\n",
       "      <th></th>\n",
       "      <th>W</th>\n",
       "      <th>D</th>\n",
       "      <th>L</th>\n",
       "      <th>Pts</th>\n",
       "      <th>Pred</th>\n",
       "    </tr>\n",
       "  </thead>\n",
       "  <tbody>\n",
       "    <tr>\n",
       "      <th>8</th>\n",
       "      <td>6</td>\n",
       "      <td>13</td>\n",
       "      <td>15</td>\n",
       "      <td>31</td>\n",
       "      <td>1</td>\n",
       "    </tr>\n",
       "  </tbody>\n",
       "</table>\n",
       "</div>"
      ],
      "text/plain": [
       "   W   D   L  Pts  Pred\n",
       "8  6  13  15   31     1"
      ]
     },
     "execution_count": 45,
     "metadata": {},
     "output_type": "execute_result"
    }
   ],
   "source": [
    "min_quali"
   ]
  },
  {
   "cell_type": "code",
   "execution_count": 44,
   "metadata": {},
   "outputs": [
    {
     "data": {
      "text/html": [
       "<div>\n",
       "<style scoped>\n",
       "    .dataframe tbody tr th:only-of-type {\n",
       "        vertical-align: middle;\n",
       "    }\n",
       "\n",
       "    .dataframe tbody tr th {\n",
       "        vertical-align: top;\n",
       "    }\n",
       "\n",
       "    .dataframe thead th {\n",
       "        text-align: right;\n",
       "    }\n",
       "</style>\n",
       "<table border=\"1\" class=\"dataframe\">\n",
       "  <thead>\n",
       "    <tr style=\"text-align: right;\">\n",
       "      <th></th>\n",
       "      <th>W</th>\n",
       "      <th>D</th>\n",
       "      <th>L</th>\n",
       "      <th>Pts</th>\n",
       "      <th>Pred</th>\n",
       "    </tr>\n",
       "  </thead>\n",
       "  <tbody>\n",
       "    <tr>\n",
       "      <th>49</th>\n",
       "      <td>11</td>\n",
       "      <td>9</td>\n",
       "      <td>14</td>\n",
       "      <td>42</td>\n",
       "      <td>1</td>\n",
       "    </tr>\n",
       "  </tbody>\n",
       "</table>\n",
       "</div>"
      ],
      "text/plain": [
       "     W  D   L  Pts  Pred\n",
       "49  11  9  14   42     1"
      ]
     },
     "execution_count": 44,
     "metadata": {},
     "output_type": "execute_result"
    }
   ],
   "source": [
    "expected_quali"
   ]
  },
  {
   "cell_type": "markdown",
   "metadata": {},
   "source": [
    "### Verdict\n",
    "\n",
    "Though the model is not 100% accurate and the qualification scenarios do depend on performance of other teams in the conference, we can still establish what all might be required by the team to produce a qualification.\n",
    "\n",
    "1. **Minimum requirements:** Model suggests that if the team does not win any of the upcoming matches, they can only afford to loose one match and at least draw all other matches in order to qualify for the playoffs. However, this prediction has a very low probability of turning out to be true due to highly competitive nature of the conference currently.\n",
    "\n",
    "2. **Best possible scenarios:** As suggested by many sports expert this season - expected cutoff points for the teams to qualify is set to be around 42. Hence, the best possible scenaio for the team to reach this mark is if they manage to win and draw atleast 5 of the next available matches. This prediction is highly likely to turn out to be true as suggested by the model."
   ]
  }
 ],
 "metadata": {
  "kernelspec": {
   "display_name": "Python 3",
   "language": "python",
   "name": "python3"
  },
  "language_info": {
   "codemirror_mode": {
    "name": "ipython",
    "version": 3
   },
   "file_extension": ".py",
   "mimetype": "text/x-python",
   "name": "python",
   "nbconvert_exporter": "python",
   "pygments_lexer": "ipython3",
   "version": "3.9.6"
  },
  "orig_nbformat": 4
 },
 "nbformat": 4,
 "nbformat_minor": 2
}
